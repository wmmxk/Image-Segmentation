{
 "cells": [
  {
   "cell_type": "markdown",
   "metadata": {},
   "source": [
    "source: http://warmspringwinds.github.io/tensorflow/tf-slim/2016/12/18/image-segmentation-with-tensorflow-using-cnns-and-conditional-random-fields/"
   ]
  },
  {
   "cell_type": "markdown",
   "metadata": {},
   "source": [
    "depedency to run:\n",
    "    TF: 0.12\n",
    "    pydensecrf: https://github.com/lucasb-eyer/pydensecrf    "
   ]
  },
  {
   "cell_type": "code",
   "execution_count": 7,
   "metadata": {},
   "outputs": [
    {
     "data": {
      "text/plain": [
       "'\\nInput: raw RGB image, it is a (320, 576, 3) numpy array\\n       predicted probability for each pixel: (1,320,576,2) array. (two class including background)\\n       true annotation: annotation for each pixel. (320,576,1) array\\n       \\nOutput: (320,576) array of class label for each pixel\\n\\n'"
      ]
     },
     "execution_count": 7,
     "metadata": {},
     "output_type": "execute_result"
    }
   ],
   "source": [
    "'''\n",
    "Input: raw RGB image, it is a (320, 576, 3) numpy array\n",
    "       predicted probability for each pixel: (1,320,576,2) array. (two class including background)\n",
    "       true annotation: annotation for each pixel. (320,576,1) array\n",
    "       \n",
    "Output: (320,576) array of class label for each pixel\n",
    "\n",
    "'''"
   ]
  },
  {
   "cell_type": "code",
   "execution_count": 8,
   "metadata": {
    "collapsed": true
   },
   "outputs": [],
   "source": [
    "import numpy as np\n",
    "from matplotlib import pyplot as plt\n",
    "\n",
    "import skimage.io as io\n",
    "import sys\n",
    "import pydensecrf.densecrf as dcrf\n",
    "from pydensecrf.utils import compute_unary, create_pairwise_bilateral, \\\n",
    "    create_pairwise_gaussian, softmax_to_unary"
   ]
  },
  {
   "cell_type": "code",
   "execution_count": 9,
   "metadata": {},
   "outputs": [
    {
     "data": {
      "text/plain": [
       "(1, 320, 576, 2)"
      ]
     },
     "execution_count": 9,
     "metadata": {},
     "output_type": "execute_result"
    }
   ],
   "source": [
    "\n",
    "\n",
    "image = np.load(\"../data/image.npy\")\n",
    "final_probabilities = np.load(\"../data/pred_prob.npy\")\n",
    "true_annotation = np.load(\"../data/true_annotation.npy\")\n",
    "final_probabilities.shape"
   ]
  },
  {
   "cell_type": "code",
   "execution_count": 10,
   "metadata": {},
   "outputs": [
    {
     "name": "stderr",
     "output_type": "stream",
     "text": [
      "WARNING:root:pydensecrf.softmax_to_unary is deprecated, use unary_from_softmax instead.\n"
     ]
    }
   ],
   "source": [
    "softmax = final_probabilities.squeeze()\n",
    "\n",
    "softmax = softmax.transpose((2, 0, 1))\n",
    "\n",
    "# The input should be the negative of the logarithm of probability values\n",
    "# Look up the definition of the softmax_to_unary for more information\n",
    "unary = softmax_to_unary(softmax)\n",
    "\n",
    "# The inputs should be C-continious -- we are using Cython wrapper\n",
    "unary = np.ascontiguousarray(unary)\n"
   ]
  },
  {
   "cell_type": "code",
   "execution_count": 11,
   "metadata": {
    "collapsed": true
   },
   "outputs": [],
   "source": [
    "\n",
    "d = dcrf.DenseCRF(image.shape[0] * image.shape[1], 2)\n",
    "\n",
    "d.setUnaryEnergy(unary)\n",
    "\n",
    "# This potential penalizes small pieces of segmentation that are\n",
    "# spatially isolated -- enforces more spatially consistent segmentations\n",
    "feats = create_pairwise_gaussian(sdims=(10, 10), shape=image.shape[:2])\n",
    "\n",
    "d.addPairwiseEnergy(feats, compat=3,\n",
    "                    kernel=dcrf.DIAG_KERNEL,\n",
    "                    normalization=dcrf.NORMALIZE_SYMMETRIC)\n",
    "\n",
    "# This creates the color-dependent features --\n",
    "# because the segmentation that we get from CNN are too coarse\n",
    "# and we can use local color features to refine them\n",
    "feats = create_pairwise_bilateral(sdims=(50, 50), schan=(20, 20, 20),\n",
    "                                   img=image, chdim=2)\n",
    "\n",
    "d.addPairwiseEnergy(feats, compat=10,\n",
    "                     kernel=dcrf.DIAG_KERNEL,\n",
    "                     normalization=dcrf.NORMALIZE_SYMMETRIC)"
   ]
  },
  {
   "cell_type": "code",
   "execution_count": 12,
   "metadata": {},
   "outputs": [
    {
     "data": {
      "image/png": "[encoded data removed]",
      "text/plain": [
       "<matplotlib.figure.Figure at 0x7f837246ba50>"
      ]
     },
     "metadata": {},
     "output_type": "display_data"
    }
   ],
   "source": [
    "fig_size = [15, 4]\n",
    "plt.rcParams[\"figure.figsize\"] = fig_size\n",
    "\n",
    "Q = d.inference(5)\n",
    "\n",
    "res = np.argmax(Q, axis=0).reshape((image.shape[0], image.shape[1]))\n",
    "\n",
    "cmap = plt.get_cmap('bwr')\n",
    "\n",
    "f, (ax1, ax2) = plt.subplots(1, 2, sharey=True)\n",
    "ax1.imshow(res, vmax=1.5, vmin=-0.4, cmap=cmap)\n",
    "ax1.set_title('Segmentation with CRF post-processing')\n",
    "\n",
    "probability_graph = ax2.imshow(np.dstack((true_annotation,)*3)*100)\n",
    "ax2.set_title('Ground-Truth Annotation')\n",
    "plt.show()\n"
   ]
  },
  {
   "cell_type": "code",
   "execution_count": null,
   "metadata": {
    "collapsed": true
   },
   "outputs": [],
   "source": []
  }
 ],
 "metadata": {
  "kernelspec": {
   "display_name": "Python 2",
   "language": "python",
   "name": "python2"
  },
  "language_info": {
   "codemirror_mode": {
    "name": "ipython",
    "version": 2
   },
   "file_extension": ".py",
   "mimetype": "text/x-python",
   "name": "python",
   "nbconvert_exporter": "python",
   "pygments_lexer": "ipython2",
   "version": "2.7.13"
  }
 },
 "nbformat": 4,
 "nbformat_minor": 2
}
